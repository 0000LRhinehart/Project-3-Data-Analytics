{
 "cells": [
  {
   "cell_type": "code",
   "execution_count": 20,
   "id": "55ecee0c",
   "metadata": {},
   "outputs": [],
   "source": [
    "__author__ = \"Luke Rhinehart\"\n",
    "__version__ = \"Fall 2023\"\n",
    "__pylint__ = \"Version 3.11.4\"\n",
    "\n",
    "#Github repo is at https://github.com/0000LRhinehart/Project-3-Data-Analytics"
   ]
  },
  {
   "cell_type": "code",
   "execution_count": 21,
   "id": "6570a982",
   "metadata": {},
   "outputs": [
    {
     "data": {
      "text/plain": [
       "'Part 1\\n   intro'"
      ]
     },
     "execution_count": 21,
     "metadata": {},
     "output_type": "execute_result"
    }
   ],
   "source": [
    "'''Part 1\n",
    "   intro'''\n",
    "#Support Vector Machines\n",
    "#Information from https://scikit-learn.org/stable/modules/svm.html#svm-classification\n",
    "#https://www.datacamp.com/tutorial/svm-classification-scikit-learn-python\n",
    "\n",
    "#Attempts to generate a hyperplane which seperates values with it. This is similar to a knn graph or cluster.\n",
    "#This is able to be used for classification, regression and identifying outliers\n",
    "#The hyperplanes are drawn an equal margin between values of one feature to another\n",
    "#This written to 3 vectors equal to \n",
    "# w*x - b = 0 for the middle line and\n",
    "# w*x - b = 1 and w*x - b = -1 for lines crossing through the feature points\n",
    "#w is the vector to the hyperplane, b is the offset from the origin ( think if there was a parellel line through the origin)\n",
    "\n",
    "#In Sklearn, SVC using the linear kernel and linearSVC generate straight hyperplanes\n",
    "#curved hyperplanes can be generate as well with RBF and polynomial kernel using SVS\n",
    "\n",
    "#Positives\n",
    "#Effective in high dimensional spaces\n",
    "#Still effective when number of dimensions is larger than number of samples\n",
    "#Memory effectient beacuse support vectors only use a subset of training points in the decision function \n",
    "#Capable of using multiple kernel functions \n",
    "\n",
    "#Negatives\n",
    "#Can be slow and thus unsuitable for large datasets\n",
    "#Is not capable of self-probablility estimates. Validation requires expensive cross validation\n"
   ]
  },
  {
   "cell_type": "code",
   "execution_count": 22,
   "id": "e401544d",
   "metadata": {},
   "outputs": [
    {
     "data": {
      "text/plain": [
       "'Part 2\\n   dataset introduction'"
      ]
     },
     "execution_count": 22,
     "metadata": {},
     "output_type": "execute_result"
    }
   ],
   "source": [
    "'''Part 2\n",
    "   dataset introduction'''\n",
    "\n",
    "#The dataset is sourced from https://www.kaggle.com/datasets/yekenot/tree-survival-prediction\n",
    "\n",
    "#No is the id variable\n",
    "#Plot is to the area the tree was planted in\n",
    "#Subplot is the area in a specific plot where the tree was planted\n",
    "#Species is the type of tree planted\n",
    "#Light_ISF is the light as measured by HemiView software\n",
    "#Light_CAT is the value found in Light_ISF put into one of three catagories, low, med or high\n",
    "#Core is the year the soil core was removed\n",
    "#Soil is the species of tree the soil was taken from\n",
    "#Adult is the individual tree the soil was taken from\n",
    "#Sterile is if the soil was steriled or not\n",
    "#Conspecific is if the soil was conspecific, heterospecific, or sterile conspecific\n",
    "#Myco is the Mycorrhizal type of the seedling. AMF or EMF\n",
    "#SoilMyco is Mycorrhizal type of the tree the soil was taken from AMF, EMF or Sterile\n",
    "#PlantDate is the calendar date of the tree was planter\n",
    "#AMF is the percent of arbuscular mycorrhizal fungi colonization on the roots of the harvested seedling\n",
    "#EMF is the percent of ectomycorrhizal fungi colonization on the roots of the harvested seedling\n",
    "#Phenolics is the amount nmol Gallic acid equivalents per mg dry extract \n",
    "#Lignin is the percent of percent dry mass lignin \n",
    "#NSC is the percent of dry mass nonstructural carbohydrates \n",
    "#Census is census number at the time the seedling was planted\n",
    "#Time is number of days between the planting of the tree and its harvest, death or end of the period\n",
    "#Event is 0 if the tree is harvested or survived until the period was over and is the target\n",
    "#Harvest is whether the tree was harvested for trait measurement or not\n",
    "#Alive denotes alive trees with an X and NaN if dead\n"
   ]
  },
  {
   "cell_type": "code",
   "execution_count": 23,
   "id": "e0a5fb15",
   "metadata": {},
   "outputs": [
    {
     "data": {
      "text/plain": [
       "No               int64\n",
       "Plot             int64\n",
       "Subplot         object\n",
       "Species         object\n",
       "Light_ISF      float64\n",
       "Light_Cat       object\n",
       "Core             int64\n",
       "Soil            object\n",
       "Adult           object\n",
       "Sterile         object\n",
       "Conspecific     object\n",
       "Myco            object\n",
       "SoilMyco        object\n",
       "PlantDate       object\n",
       "AMF            float64\n",
       "EMF            float64\n",
       "Phenolics      float64\n",
       "Lignin         float64\n",
       "NSC            float64\n",
       "Census           int64\n",
       "Time           float64\n",
       "Event          float64\n",
       "Harvest         object\n",
       "Alive           object\n",
       "dtype: object"
      ]
     },
     "metadata": {},
     "output_type": "display_data"
    }
   ],
   "source": [
    "'''Part 2\n",
    "   dataset import'''\n",
    "import pandas as pd\n",
    "import numpy as np\n",
    "from sklearn import svm, datasets\n",
    "import matplotlib.pyplot as plt\n",
    "import seaborn as sns\n",
    "\n",
    "df = pd.read_csv('Tree_data.csv',)\n",
    "\n",
    "\n",
    "\n",
    "display(df.dtypes)"
   ]
  },
  {
   "cell_type": "code",
   "execution_count": 24,
   "id": "a7c3b456",
   "metadata": {},
   "outputs": [
    {
     "name": "stdout",
     "output_type": "stream",
     "text": [
      "No                0\n",
      "Plot              0\n",
      "Subplot           0\n",
      "Species           0\n",
      "Light_ISF         0\n",
      "Light_Cat         0\n",
      "Core              0\n",
      "Soil              0\n",
      "Adult             0\n",
      "Sterile           0\n",
      "Conspecific       0\n",
      "Myco              0\n",
      "SoilMyco          0\n",
      "PlantDate         0\n",
      "AMF               0\n",
      "EMF            1500\n",
      "Phenolics         0\n",
      "Lignin            0\n",
      "NSC               0\n",
      "Census            0\n",
      "Time              0\n",
      "Event             1\n",
      "Harvest        2079\n",
      "Alive          2292\n",
      "dtype: int64\n"
     ]
    }
   ],
   "source": [
    "'''Part 2 \n",
    "   check for and drop null and uneeded values'''\n",
    "\n",
    "print(df.isnull().sum()) #Check for null values\n",
    "\n",
    "#Drop harvest, alive and the id feature as they are not needed or accurate to measure surviability. \n",
    "df_drop = df.drop(columns=['No','Harvest','Alive'])\n",
    "\n",
    "df_drop = df_drop.dropna(subset='Event')"
   ]
  },
  {
   "cell_type": "code",
   "execution_count": 25,
   "id": "d1501407",
   "metadata": {},
   "outputs": [
    {
     "data": {
      "text/plain": [
       "<bound method NDFrame.head of       Plot  Subplot  Species  Light_ISF  Light_Cat  Core  Soil Adult  Sterile  \\\n",
       "0        1        2        0      0.106          1     1     1     I        1   \n",
       "1        1        2        2      0.106          1     1     3   970        1   \n",
       "2        1        2        3      0.106          1     1     1     J        1   \n",
       "3        7        3        0      0.080          1     0     1     J        1   \n",
       "4       14        0        0      0.060          0     1     1   689        1   \n",
       "...    ...      ...      ...        ...        ...   ...   ...   ...      ...   \n",
       "2777    17        2        2      0.122          2     1     3  1595        1   \n",
       "2778    17        1        1      0.111          1     1     5   891        1   \n",
       "2779    17        3        2      0.118          1     1     4  1468        1   \n",
       "2780    17        3        2      0.118          1     1     3  1454        1   \n",
       "2782    18        0        1      0.141          2     0     5   118        1   \n",
       "\n",
       "      Conspecific  ...  SoilMyco  PlantDate    AMF    EMF  Phenolics  Lignin  \\\n",
       "0               1  ...         0    6/11/18  22.00    NaN      -0.56   13.86   \n",
       "1               1  ...         1    5/25/18  15.82  31.07       5.19   20.52   \n",
       "2               1  ...         0    5/31/18  24.45  28.19       3.36   24.74   \n",
       "3               1  ...         0    6/11/18  22.23    NaN      -0.71   14.29   \n",
       "4               1  ...         0    6/11/18  21.15    NaN      -0.58   10.85   \n",
       "...           ...  ...       ...        ...    ...    ...        ...     ...   \n",
       "2777            1  ...         1    5/25/18  10.89  39.00       5.53   21.44   \n",
       "2778            1  ...         1     6/7/18  40.89    NaN       0.83    9.15   \n",
       "2779            1  ...         0    5/25/18  15.47  32.82       4.88   19.01   \n",
       "2780            1  ...         1    5/25/18  11.96  37.67       5.51   21.13   \n",
       "2782            1  ...         1     6/7/18  60.46    NaN       1.00    9.04   \n",
       "\n",
       "        NSC  Census   Time  Event  \n",
       "0     12.15       4   14.0    1.0  \n",
       "1     19.29      33  115.5    0.0  \n",
       "2     15.01      18   63.0    1.0  \n",
       "3     12.36       4   14.0    1.0  \n",
       "4     11.20       4   14.0    1.0  \n",
       "...     ...     ...    ...    ...  \n",
       "2777  18.99      16   56.0    1.0  \n",
       "2778  11.88      16   56.0    1.0  \n",
       "2779  23.50      16   56.0    1.0  \n",
       "2780  19.10      16   56.0    1.0  \n",
       "2782  11.82      16   56.0    1.0  \n",
       "\n",
       "[2782 rows x 21 columns]>"
      ]
     },
     "metadata": {},
     "output_type": "display_data"
    }
   ],
   "source": [
    "'''Part 2\n",
    "   dataset cleaning cont'''\n",
    "\n",
    "# Converting categorical values into numerics\n",
    "df_replace = df_drop\n",
    "\n",
    "df_replace['Subplot'] = df_replace['Subplot'].replace({'A': 0, 'B': 1, 'C': 2, 'D': 3, 'E': 4})\n",
    "df_replace['Species'] = df_replace['Species'].replace({'Acer saccharum': 0, 'Prunus serotina': 1, 'Quercus alba': 2, 'Quercus rubra': 3})\n",
    "df_replace['Light_Cat'] = df_replace['Light_Cat'].replace({'Low': 0, 'Med': 1, 'High': 2})\n",
    "df_replace['Core'] = df_replace['Core'].replace({2016: 0, 2017: 1})\n",
    "df_replace['Soil'] = df_replace['Soil'].replace({'Acer saccharum': 0, 'Prunus serotina': 1, 'Quercus alba': 2, 'Quercus rubra': 3,'Acer rubrum': 4, 'Populus grandidentata': 5, 'Sterile': 6})\n",
    "df_replace['Sterile'] = df_replace['Sterile'].replace({'Sterile': 0, 'Non-Sterile': 1})\n",
    "df_replace['Conspecific'] = df_replace['Conspecific'].replace({'Conspecific': 0, 'Heterospecific': 1, 'Sterilized': 2})\n",
    "df_replace['Myco'] = df_replace['Myco'].replace({'AMF': 0, 'EMF': 1})\n",
    "df_replace['SoilMyco'] = df_replace['SoilMyco'].replace({'AMF': 0, 'EMF': 1, 'Sterile': 2})\n",
    "\n",
    "\n",
    "display(df_replace.head) #Verify that values were replaced properly"
   ]
  },
  {
   "cell_type": "code",
   "execution_count": 26,
   "id": "e285e0e4",
   "metadata": {},
   "outputs": [
    {
     "data": {
      "image/png": "[encoded data removed]",
      "text/plain": [
       "<Figure size 640x480 with 1 Axes>"
      ]
     },
     "metadata": {},
     "output_type": "display_data"
    }
   ],
   "source": [
    "'''Part 2\n",
    "   dataset cleaning cont\n",
    "   removing outliers'''\n",
    "\n",
    "'''The no outlier dataframes are not used as they had negative effects on the data overall\n",
    "   which indcluded removing some data overall such as Myco being reduced to only EMF'''\n",
    "\n",
    "df_replace.boxplot(column=['Light_ISF'])\n",
    "plt.show()\n",
    "\n",
    "df_light_nooutlier = df_replace[(df_replace['Light_ISF'] < 0.15 ) ]"
   ]
  },
  {
   "cell_type": "code",
   "execution_count": 27,
   "id": "3773433c",
   "metadata": {},
   "outputs": [
    {
     "data": {
      "image/png": "[encoded data removed]",
      "text/plain": [
       "<Figure size 640x480 with 1 Axes>"
      ]
     },
     "metadata": {},
     "output_type": "display_data"
    },
    {
     "data": {
      "image/png": "[encoded data removed]",
      "text/plain": [
       "<Figure size 640x480 with 1 Axes>"
      ]
     },
     "metadata": {},
     "output_type": "display_data"
    }
   ],
   "source": [
    "'''Part 2\n",
    "   dataset cleaning cont\n",
    "   removing outliers'''\n",
    "\n",
    "df_light_nooutlier.boxplot(column=['AMF'])\n",
    "plt.show()\n",
    "\n",
    "df_AMF_nooutlier = df_light_nooutlier[(df_light_nooutlier['AMF'] < 34 ) ]\n",
    "\n",
    "df_AMF_nooutlier.boxplot(column=['AMF'])\n",
    "plt.show()"
   ]
  },
  {
   "cell_type": "code",
   "execution_count": 28,
   "id": "ac6dadf2",
   "metadata": {},
   "outputs": [
    {
     "data": {
      "image/png": "[encoded data removed]",
      "text/plain": [
       "<Figure size 640x480 with 1 Axes>"
      ]
     },
     "metadata": {},
     "output_type": "display_data"
    },
    {
     "data": {
      "image/png": "[encoded data removed]",
      "text/plain": [
       "<Figure size 640x480 with 1 Axes>"
      ]
     },
     "metadata": {},
     "output_type": "display_data"
    }
   ],
   "source": [
    "'''Part 2\n",
    "   dataset cleaning cont\n",
    "   removing outliers'''\n",
    "\n",
    "df_AMF_nooutlier.boxplot(column=['EMF'])\n",
    "plt.show()\n",
    "\n",
    "df_EMF_nooutlier = df_AMF_nooutlier[(df_AMF_nooutlier['EMF'] < 67 ) ]\n",
    "\n",
    "df_EMF_nooutlier.boxplot(column=['EMF'])\n",
    "plt.show()"
   ]
  },
  {
   "cell_type": "code",
   "execution_count": 29,
   "id": "558cd625",
   "metadata": {},
   "outputs": [
    {
     "data": {
      "image/png": "[encoded data removed]",
      "text/plain": [
       "<Figure size 640x480 with 1 Axes>"
      ]
     },
     "metadata": {},
     "output_type": "display_data"
    }
   ],
   "source": [
    "'''Part 2\n",
    "   dataset cleaning cont\n",
    "   removing outliers'''\n",
    "\n",
    "df_EMF_nooutlier.boxplot(column=['Phenolics']) # no outliers\n",
    "plt.show()"
   ]
  },
  {
   "cell_type": "code",
   "execution_count": 30,
   "id": "cf71fffe",
   "metadata": {},
   "outputs": [
    {
     "data": {
      "image/png": "[encoded data removed]",
      "text/plain": [
       "<Figure size 640x480 with 1 Axes>"
      ]
     },
     "metadata": {},
     "output_type": "display_data"
    }
   ],
   "source": [
    "'''Part 2\n",
    "   dataset cleaning cont\n",
    "   removing outliers'''\n",
    "\n",
    "df_EMF_nooutlier.boxplot(column=['Lignin']) # no outliers\n",
    "plt.show()"
   ]
  },
  {
   "cell_type": "code",
   "execution_count": 31,
   "id": "1948dd18",
   "metadata": {},
   "outputs": [
    {
     "data": {
      "image/png": "[encoded data removed]",
      "text/plain": [
       "<Figure size 640x480 with 1 Axes>"
      ]
     },
     "metadata": {},
     "output_type": "display_data"
    },
    {
     "data": {
      "image/png": "[encoded data removed]",
      "text/plain": [
       "<Figure size 640x480 with 1 Axes>"
      ]
     },
     "metadata": {},
     "output_type": "display_data"
    }
   ],
   "source": [
    "'''Part 2\n",
    "   dataset cleaning cont\n",
    "   removing outliers'''\n",
    "\n",
    "df_EMF_nooutlier.boxplot(column=['NSC'])\n",
    "plt.show()\n",
    "\n",
    "df_NSC_nooutlier = df_EMF_nooutlier[(df_EMF_nooutlier['NSC'] < 28 ) & (df_EMF_nooutlier['NSC'] > 7 )]\n",
    "\n",
    "df_NSC_nooutlier.boxplot(column=['NSC'])\n",
    "plt.show()"
   ]
  },
  {
   "cell_type": "code",
   "execution_count": 32,
   "id": "3cd25748",
   "metadata": {},
   "outputs": [
    {
     "data": {
      "image/png": "[encoded data removed]",
      "text/plain": [
       "<Figure size 640x480 with 1 Axes>"
      ]
     },
     "metadata": {},
     "output_type": "display_data"
    }
   ],
   "source": [
    "'''Part 2\n",
    "   dataset cleaning cont\n",
    "   removing outliers'''\n",
    "\n",
    "df_NSC_nooutlier.boxplot(column=['Census']) #no outliers\n",
    "plt.show()"
   ]
  },
  {
   "cell_type": "code",
   "execution_count": 33,
   "id": "17b19a3f",
   "metadata": {},
   "outputs": [
    {
     "data": {
      "image/png": "[encoded data removed]",
      "text/plain": [
       "<Figure size 640x480 with 1 Axes>"
      ]
     },
     "metadata": {},
     "output_type": "display_data"
    }
   ],
   "source": [
    "'''Part 2\n",
    "   dataset cleaning cont\n",
    "   removing outliers'''\n",
    "\n",
    "df_NSC_nooutlier.boxplot(column=['Time'])  #no outliers\n",
    "plt.show()\n",
    "\n",
    "df_nooutlier_final = df_NSC_nooutlier"
   ]
  },
  {
   "cell_type": "code",
   "execution_count": 34,
   "id": "3b1af016",
   "metadata": {},
   "outputs": [
    {
     "data": {
      "image/png": "[encoded data removed]",
      "text/plain": [
       "<Figure size 1600x800 with 10 Axes>"
      ]
     },
     "metadata": {},
     "output_type": "display_data"
    }
   ],
   "source": [
    "'''Part 2\n",
    "   Categorical Features vs. Target -\n",
    "   Grouped Bar Chart or Stacked Bar Chart'''\n",
    "\n",
    "cat_list=['Plot','Subplot','Species', 'Light_Cat','Core', 'Soil','Sterile','Conspecific','Myco','SoilMyco']\n",
    "\n",
    "fig=plt.figure(figsize=(16,8))\n",
    "\n",
    "for i in range(len(cat_list)):\n",
    "    column=cat_list[i]\n",
    "    sub=fig.add_subplot(3,4,i+1)\n",
    "    chart=sns.countplot(x=column,hue='Event', data=df_replace)\n",
    "\n",
    "plt.show()\n",
    "#Subplot appears to be somewhat uniform and species appears to be uniform accross 0 and 1 and 2 and 3\n",
    "#SoilMyco appears to be uniform along 0 and 1"
   ]
  },
  {
   "cell_type": "code",
   "execution_count": 35,
   "id": "fb71703e",
   "metadata": {},
   "outputs": [
    {
     "name": "stdout",
     "output_type": "stream",
     "text": [
      "[   6.54723148   51.25195055 1377.6512245  1028.37888537  561.99897531\n",
      "  158.46961789  158.46961789]\n",
      "[0.01055728 0.         0.         0.         0.         0.\n",
      " 0.        ]\n"
     ]
    }
   ],
   "source": [
    "'''Part 2\n",
    "   ANOVA'''\n",
    "from sklearn.feature_selection import SelectKBest, f_classif, chi2\n",
    "\n",
    "#EMF omitted as it contains NaN and it will be later removed \n",
    "x = df_drop.loc[:, ['Light_ISF', 'AMF', 'Phenolics', 'Lignin', 'NSC', 'Census','Time']]\n",
    "y = df_drop.loc[:, 'Event']\n",
    "\n",
    "fs = SelectKBest(score_func=f_classif, k='all') # call the method\n",
    "bestFeatures = fs.fit(x, y) # train the model\n",
    "np.set_printoptions(suppress = True)\n",
    "print(bestFeatures.scores_) # print out the scores\n",
    "print(bestFeatures.pvalues_)\n",
    "\n",
    "#No p values are not above 5% and near alls f values are considerably high.  no values need to be removed"
   ]
  },
  {
   "cell_type": "code",
   "execution_count": 37,
   "id": "f06c6d03",
   "metadata": {},
   "outputs": [
    {
     "name": "stdout",
     "output_type": "stream",
     "text": [
      "[ 39.3685643    0.01839994 733.82515306   2.07776326   2.7172988\n",
      "   9.39545802   2.5940463    5.30713636 543.82048769   4.89011305]\n",
      "[0.         0.89210085 0.         0.14945905 0.09926587 0.00217524\n",
      " 0.10726599 0.02123824 0.         0.02701092]\n"
     ]
    }
   ],
   "source": [
    "'''Part 2\n",
    "   Chi Squared'''\n",
    "\n",
    "x = df_replace.loc[:, ['Plot','Subplot','Species', 'Light_Cat','Core', 'Soil','Sterile','Conspecific','Myco','SoilMyco']]\n",
    "y = df_replace.loc[:, 'Event']\n",
    "\n",
    "chi = SelectKBest(score_func=chi2, k='all')\n",
    "catFeatures = chi.fit(x, y)\n",
    "\n",
    "print(catFeatures.scores_)\n",
    "print(catFeatures.pvalues_)\n",
    "\n",
    "#The p values for Subplot, Light_Cat, Core, Sterile\n",
    "\n",
    "df_drop_chi = df_replace.drop(columns=['Subplot', 'Light_Cat', 'Core', 'Sterile'])"
   ]
  },
  {
   "cell_type": "code",
   "execution_count": 38,
   "id": "199b73ca",
   "metadata": {},
   "outputs": [
    {
     "name": "stdout",
     "output_type": "stream",
     "text": [
      "                 Plot   Species  Light_ISF      Soil  Conspecific      Myco  \\\n",
      "Plot         1.000000  0.016744   0.247019 -0.002722    -0.015022  0.014542   \n",
      "Species      0.016744  1.000000   0.002243  0.005372     0.026716  0.891831   \n",
      "Light_ISF    0.247019  0.002243   1.000000 -0.014761    -0.020316  0.003763   \n",
      "Soil        -0.002722  0.005372  -0.014761  1.000000     0.623355  0.008220   \n",
      "Conspecific -0.015022  0.026716  -0.020316  0.623355     1.000000  0.031334   \n",
      "Myco         0.014542  0.891831   0.003763  0.008220     0.031334  1.000000   \n",
      "SoilMyco    -0.005970  0.020353  -0.013463  0.731727     0.608786  0.020411   \n",
      "AMF          0.084170 -0.033760   0.099582 -0.292115    -0.271979 -0.235674   \n",
      "EMF          0.165424 -0.024734   0.164273 -0.329808    -0.479315       NaN   \n",
      "Phenolics    0.038257  0.823448   0.097449 -0.047555    -0.049903  0.942318   \n",
      "Lignin      -0.009993  0.765214   0.080870 -0.039085    -0.024006  0.884615   \n",
      "NSC          0.026108  0.499075   0.226416 -0.030158     0.026328  0.721733   \n",
      "Census      -0.062501  0.325743   0.024215  0.031186     0.038971  0.381766   \n",
      "Time        -0.062501  0.325743   0.024215  0.031186     0.038971  0.381766   \n",
      "Event       -0.070711 -0.552084  -0.048473 -0.049925    -0.081591 -0.602119   \n",
      "\n",
      "             SoilMyco       AMF       EMF  Phenolics    Lignin       NSC  \\\n",
      "Plot        -0.005970  0.084170  0.165424   0.038257 -0.009993  0.026108   \n",
      "Species      0.020353 -0.033760 -0.024734   0.823448  0.765214  0.499075   \n",
      "Light_ISF   -0.013463  0.099582  0.164273   0.097449  0.080870  0.226416   \n",
      "Soil         0.731727 -0.292115 -0.329808  -0.047555 -0.039085 -0.030158   \n",
      "Conspecific  0.608786 -0.271979 -0.479315  -0.049903 -0.024006  0.026328   \n",
      "Myco         0.020411 -0.235674       NaN   0.942318  0.884615  0.721733   \n",
      "SoilMyco     1.000000 -0.313875 -0.347347  -0.019223 -0.007821 -0.036757   \n",
      "AMF         -0.313875  1.000000  0.264973  -0.121203 -0.303998 -0.181520   \n",
      "EMF         -0.347347  0.264973  1.000000   0.359801  0.055148  0.117762   \n",
      "Phenolics   -0.019223 -0.121203  0.359801   1.000000  0.768156  0.791127   \n",
      "Lignin      -0.007821 -0.303998  0.055148   0.768156  1.000000  0.546606   \n",
      "NSC         -0.036757 -0.181520  0.117762   0.791127  0.546606  1.000000   \n",
      "Census       0.013153 -0.089879  0.001759   0.379306  0.293215  0.367686   \n",
      "Time         0.013153 -0.089879  0.001759   0.379306  0.293215  0.367686   \n",
      "Event       -0.050368  0.134544 -0.037480  -0.575633 -0.519645 -0.410076   \n",
      "\n",
      "               Census      Time     Event  \n",
      "Plot        -0.062501 -0.062501 -0.070711  \n",
      "Species      0.325743  0.325743 -0.552084  \n",
      "Light_ISF    0.024215  0.024215 -0.048473  \n",
      "Soil         0.031186  0.031186 -0.049925  \n",
      "Conspecific  0.038971  0.038971 -0.081591  \n",
      "Myco         0.381766  0.381766 -0.602119  \n",
      "SoilMyco     0.013153  0.013153 -0.050368  \n",
      "AMF         -0.089879 -0.089879  0.134544  \n",
      "EMF          0.001759  0.001759 -0.037480  \n",
      "Phenolics    0.379306  0.379306 -0.575633  \n",
      "Lignin       0.293215  0.293215 -0.519645  \n",
      "NSC          0.367686  0.367686 -0.410076  \n",
      "Census       1.000000  1.000000 -0.232227  \n",
      "Time         1.000000  1.000000 -0.232227  \n",
      "Event       -0.232227 -0.232227  1.000000  \n"
     ]
    },
    {
     "name": "stderr",
     "output_type": "stream",
     "text": [
      "C:\\Users\\Rhino\\AppData\\Local\\Temp\\ipykernel_24828\\4021435401.py:4: FutureWarning: The default value of numeric_only in DataFrame.corr is deprecated. In a future version, it will default to False. Select only valid columns or specify the value of numeric_only to silence this warning.\n",
      "  print(df_drop_chi.corr())\n"
     ]
    }
   ],
   "source": [
    "'''Part 2\n",
    "   Correlation'''\n",
    "\n",
    "print(df_drop_chi.corr())\n",
    "\n",
    "#Species has high correlation with Myco, Phenolics and Lignin\n",
    "#EMF has high correlation with Phenolics and Myco and moderate corrlation with Species, lingin and NSC \n",
    "#Myco has high correlation with Phenolics, Lignin, NSC\n",
    "#NSC has high correlation with Myco and Phenolics\n",
    "#Census and Time have 1:1 correlation\n",
    "\n",
    "df_drop_corr = df_drop_chi.drop(columns=['Myco', 'Lignin','EMF', 'NSC', 'Census'])"
   ]
  },
  {
   "cell_type": "code",
   "execution_count": 39,
   "id": "b773b554",
   "metadata": {},
   "outputs": [],
   "source": [
    "'''Part 2\n",
    "   algorithm application'''\n",
    "from sklearn.model_selection import train_test_split\n",
    "\n",
    "X = df_drop_corr.loc[:, ['Plot','Species','Light_ISF','Soil','Conspecific','SoilMyco','AMF','Phenolics']]\n",
    "y = df_drop_corr.loc[:, 'Event']\n",
    "\n",
    "\n",
    "X_train, X_test, y_train, y_test = train_test_split(X, y, test_size=0.3,random_state=109)"
   ]
  },
  {
   "cell_type": "code",
   "execution_count": 57,
   "id": "24155b7f",
   "metadata": {},
   "outputs": [],
   "source": [
    "'''Part 2\n",
    "   algorithm application'''\n",
    "from sklearn import svm\n",
    "\n",
    "clf = svm.SVC(kernel='linear')\n",
    "\n",
    "clf.fit(X_train, y_train)\n",
    "\n",
    "y_pred = clf.predict(X_test)"
   ]
  },
  {
   "cell_type": "code",
   "execution_count": 58,
   "id": "6ca392fd",
   "metadata": {},
   "outputs": [
    {
     "name": "stdout",
     "output_type": "stream",
     "text": [
      "Accuracy: 0.8047904191616766\n"
     ]
    }
   ],
   "source": [
    "from sklearn import metrics\n",
    "\n",
    "print(\"Accuracy:\",metrics.accuracy_score(y_test, y_pred))"
   ]
  },
  {
   "cell_type": "code",
   "execution_count": 63,
   "id": "b2202dfd",
   "metadata": {},
   "outputs": [],
   "source": [
    "\n",
    "clf_rbf = svm.SVC(kernel='rbf')\n",
    "\n",
    "clf_rbf.fit(X_train, y_train)\n",
    "\n",
    "y_pred_rbf = clf_polynomial.predict(X_test)"
   ]
  },
  {
   "cell_type": "code",
   "execution_count": 64,
   "id": "86d0b1b1",
   "metadata": {},
   "outputs": [
    {
     "name": "stdout",
     "output_type": "stream",
     "text": [
      "Accuracy: 0.8323353293413174\n"
     ]
    }
   ],
   "source": [
    "print(\"Accuracy:\",metrics.accuracy_score(y_test, y_pred_rbf))\n",
    "\n",
    "#The rbf kernel provided a 2.8 increase in accuracy."
   ]
  },
  {
   "cell_type": "code",
   "execution_count": 42,
   "id": "e15af15a",
   "metadata": {},
   "outputs": [
    {
     "data": {
      "text/plain": [
       "array([[10.   ,  1.   ,  0.072, ...,  0.   , 36.12 ,  0.42 ],\n",
       "       [10.   ,  1.   ,  0.072, ...,  0.   , 32.   ,  0.52 ],\n",
       "       [ 6.   ,  2.   ,  0.091, ...,  0.   , 13.96 ,  4.23 ],\n",
       "       ...,\n",
       "       [ 2.   ,  1.   ,  0.097, ...,  1.   , 36.14 ,  0.71 ],\n",
       "       [17.   ,  1.   ,  0.111, ...,  1.   , 40.89 ,  0.83 ],\n",
       "       [ 2.   ,  2.   ,  0.1  , ...,  1.   , 15.82 ,  4.97 ]])"
      ]
     },
     "execution_count": 42,
     "metadata": {},
     "output_type": "execute_result"
    }
   ],
   "source": [
    "clf.support_vectors_"
   ]
  },
  {
   "cell_type": "code",
   "execution_count": 43,
   "id": "c48d788b",
   "metadata": {
    "scrolled": true
   },
   "outputs": [
    {
     "data": {
      "text/plain": [
       "array([   4,   13,   19,   20,   24,   25,   26,   27,   29,   30,   34,\n",
       "         41,   49,   51,   52,   53,   56,   58,   69,   74,   76,   83,\n",
       "         96,   99,  106,  107,  111,  113,  116,  126,  129,  130,  133,\n",
       "        134,  138,  139,  151,  156,  157,  159,  164,  169,  177,  181,\n",
       "        182,  191,  192,  193,  194,  204,  205,  206,  213,  220,  224,\n",
       "        227,  228,  230,  231,  238,  239,  240,  241,  243,  247,  249,\n",
       "        250,  269,  271,  272,  273,  278,  282,  283,  285,  288,  293,\n",
       "        297,  298,  299,  303,  304,  305,  310,  314,  320,  323,  325,\n",
       "        336,  348,  351,  354,  355,  356,  358,  368,  370,  372,  373,\n",
       "        376,  377,  381,  399,  401,  407,  412,  415,  418,  422,  428,\n",
       "        430,  431,  434,  436,  439,  456,  461,  480,  497,  500,  507,\n",
       "        517,  520,  527,  530,  531,  547,  550,  551,  555,  557,  561,\n",
       "        565,  572,  573,  580,  581,  586,  587,  593,  596,  605,  609,\n",
       "        613,  614,  617,  618,  619,  622,  627,  629,  633,  635,  639,\n",
       "        642,  644,  645,  655,  664,  668,  669,  674,  675,  677,  681,\n",
       "        684,  692,  699,  701,  704,  705,  707,  717,  718,  720,  723,\n",
       "        724,  729,  738,  743,  744,  747,  751,  760,  765,  770,  773,\n",
       "        775,  782,  783,  789,  797,  798,  800,  805,  810,  811,  814,\n",
       "        816,  818,  838,  850,  855,  857,  860,  868,  869,  873,  876,\n",
       "        879,  883,  885,  886,  889,  890,  900,  901,  906,  908,  914,\n",
       "        916,  917,  919,  936,  942,  947,  951,  958,  962,  967,  971,\n",
       "        986,  990,  992,  995,  996,  997, 1001, 1014, 1016, 1022, 1028,\n",
       "       1034, 1049, 1051, 1052, 1055, 1058, 1063, 1065, 1067, 1072, 1077,\n",
       "       1089, 1090, 1093, 1102, 1115, 1116, 1121, 1124, 1126, 1129, 1131,\n",
       "       1132, 1133, 1140, 1144, 1145, 1157, 1158, 1161, 1168, 1181, 1191,\n",
       "       1192, 1193, 1194, 1196, 1200, 1204, 1205, 1212, 1219, 1220, 1222,\n",
       "       1225, 1227, 1229, 1233, 1234, 1235, 1243, 1251, 1252, 1254, 1265,\n",
       "       1269, 1270, 1273, 1276, 1279, 1283, 1284, 1310, 1311, 1315, 1324,\n",
       "       1338, 1342, 1356, 1362, 1363, 1365, 1373, 1386, 1388, 1395, 1402,\n",
       "       1412, 1414, 1418, 1420, 1422, 1424, 1425, 1427, 1430, 1431, 1434,\n",
       "       1437, 1438, 1441, 1447, 1453, 1461, 1462, 1463, 1466, 1467, 1479,\n",
       "       1481, 1487, 1492, 1498, 1512, 1527, 1530, 1536, 1539, 1543, 1559,\n",
       "       1570, 1572, 1576, 1582, 1590, 1591, 1593, 1603, 1608, 1609, 1610,\n",
       "       1614, 1618, 1620, 1629, 1633, 1639, 1643, 1646, 1661, 1663, 1668,\n",
       "       1669, 1673, 1678, 1684, 1686, 1687, 1691, 1693, 1695, 1707, 1709,\n",
       "       1711, 1715, 1721, 1728, 1730, 1739, 1743, 1747, 1752, 1758, 1765,\n",
       "       1772, 1774, 1785, 1789, 1795, 1812, 1819, 1820, 1823, 1826, 1828,\n",
       "       1830, 1831, 1833, 1834, 1835, 1839, 1840, 1841, 1843, 1845, 1856,\n",
       "       1865, 1874, 1882, 1888, 1900, 1905, 1906, 1907, 1909, 1914, 1916,\n",
       "       1921, 1923, 1927, 1932, 1938, 1940, 1943,    2,    3,   10,   12,\n",
       "         15,   18,   23,   37,   39,   46,   48,   54,   57,   62,   65,\n",
       "         68,   70,   91,   94,   95,  114,  120,  122,  125,  127,  131,\n",
       "        144,  146,  152,  160,  165,  166,  175,  186,  187,  188,  195,\n",
       "        207,  214,  217,  219,  233,  234,  245,  255,  256,  263,  281,\n",
       "        286,  287,  292,  308,  318,  326,  328,  333,  334,  341,  343,\n",
       "        346,  347,  352,  353,  362,  369,  371,  378,  379,  386,  392,\n",
       "        397,  398,  406,  410,  414,  417,  421,  425,  437,  438,  442,\n",
       "        445,  451,  452,  454,  455,  457,  459,  460,  463,  465,  467,\n",
       "        469,  471,  474,  475,  476,  479,  490,  492,  501,  509,  510,\n",
       "        513,  514,  519,  543,  548,  549,  558,  559,  566,  569,  582,\n",
       "        583,  585,  588,  589,  591,  598,  599,  603,  604,  608,  616,\n",
       "        626,  637,  640,  647,  648,  650,  654,  657,  658,  661,  665,\n",
       "        670,  682,  693,  694,  695,  696,  697,  698,  703,  706,  712,\n",
       "        714,  715,  725,  727,  731,  736,  737,  739,  740,  746,  749,\n",
       "        750,  752,  755,  758,  764,  774,  776,  777,  781,  784,  785,\n",
       "        813,  817,  820,  821,  824,  826,  828,  832,  844,  848,  851,\n",
       "        861,  862,  863,  865,  878,  894,  896,  903,  904,  915,  918,\n",
       "        923,  924,  927,  930,  934,  941,  946,  952,  953,  954,  956,\n",
       "        957,  960,  964,  968,  972,  973,  976,  979,  981,  985,  987,\n",
       "        988,  993, 1006, 1007, 1011, 1019, 1024, 1026, 1027, 1030, 1031,\n",
       "       1040, 1041, 1057, 1060, 1068, 1075, 1079, 1085, 1095, 1100, 1101,\n",
       "       1103, 1104, 1107, 1109, 1110, 1113, 1117, 1128, 1134, 1135, 1137,\n",
       "       1141, 1143, 1150, 1154, 1156, 1159, 1164, 1169, 1171, 1178, 1180,\n",
       "       1182, 1185, 1186, 1188, 1201, 1202, 1209, 1210, 1214, 1224, 1232,\n",
       "       1238, 1239, 1257, 1260, 1262, 1266, 1272, 1275, 1281, 1285, 1287,\n",
       "       1292, 1295, 1301, 1302, 1304, 1306, 1307, 1309, 1314, 1321, 1326,\n",
       "       1328, 1333, 1334, 1339, 1340, 1344, 1352, 1355, 1368, 1371, 1372,\n",
       "       1380, 1381, 1396, 1398, 1409, 1419, 1432, 1436, 1439, 1443, 1445,\n",
       "       1450, 1451, 1455, 1457, 1468, 1469, 1470, 1478, 1493, 1497, 1503,\n",
       "       1504, 1515, 1516, 1517, 1519, 1523, 1531, 1534, 1537, 1544, 1550,\n",
       "       1556, 1558, 1560, 1561, 1562, 1565, 1569, 1592, 1597, 1599, 1600,\n",
       "       1602, 1605, 1606, 1611, 1612, 1615, 1621, 1622, 1623, 1625, 1626,\n",
       "       1627, 1628, 1637, 1640, 1645, 1647, 1655, 1665, 1676, 1680, 1682,\n",
       "       1689, 1690, 1692, 1694, 1696, 1703, 1704, 1705, 1706, 1708, 1713,\n",
       "       1717, 1725, 1726, 1733, 1738, 1742, 1744, 1754, 1756, 1759, 1760,\n",
       "       1764, 1767, 1768, 1770, 1771, 1777, 1780, 1781, 1782, 1788, 1799,\n",
       "       1801, 1805, 1808, 1813, 1827, 1837, 1846, 1847, 1850, 1854, 1855,\n",
       "       1861, 1869, 1870, 1872, 1873, 1876, 1877, 1880, 1881, 1885, 1886,\n",
       "       1887, 1889, 1890, 1891, 1895, 1903, 1911, 1917, 1918, 1920, 1925,\n",
       "       1928, 1933, 1937, 1939, 1942])"
      ]
     },
     "execution_count": 43,
     "metadata": {},
     "output_type": "execute_result"
    }
   ],
   "source": [
    "clf.support_"
   ]
  },
  {
   "cell_type": "code",
   "execution_count": 44,
   "id": "5ce99077",
   "metadata": {
    "scrolled": true
   },
   "outputs": [
    {
     "data": {
      "text/plain": [
       "array([436, 438])"
      ]
     },
     "execution_count": 44,
     "metadata": {},
     "output_type": "execute_result"
    }
   ],
   "source": [
    "clf.n_support_"
   ]
  },
  {
   "cell_type": "code",
   "execution_count": 45,
   "id": "486215d3",
   "metadata": {},
   "outputs": [
    {
     "data": {
      "text/plain": [
       "2782"
      ]
     },
     "execution_count": 45,
     "metadata": {},
     "output_type": "execute_result"
    }
   ],
   "source": [
    "dec = clf.decision_function(X)\n",
    "dec.shape[0]"
   ]
  },
  {
   "cell_type": "code",
   "execution_count": 46,
   "id": "1b89c972",
   "metadata": {},
   "outputs": [
    {
     "data": {
      "text/plain": [
       "2782"
      ]
     },
     "execution_count": 46,
     "metadata": {},
     "output_type": "execute_result"
    }
   ],
   "source": [
    "clf.decision_function_shape = \"ovr\"\n",
    "dec = clf.decision_function(X)\n",
    "dec.shape[0] # 4 classes"
   ]
  },
  {
   "cell_type": "code",
   "execution_count": 47,
   "id": "374daff6",
   "metadata": {},
   "outputs": [],
   "source": [
    "'''Part 2\n",
    "   other algorithms'''\n",
    "\n",
    "#feature scaling\n",
    "\n",
    "x_final = df_replace.loc[:, ['Light_ISF', 'SoilMyco']]\n",
    "\n",
    "from sklearn.preprocessing import MinMaxScaler\n",
    "\n",
    "nor_x= MinMaxScaler()\n",
    "\n",
    "x_scaled= nor_x.fit_transform(x_final)"
   ]
  },
  {
   "cell_type": "code",
   "execution_count": 48,
   "id": "6d7738d9",
   "metadata": {},
   "outputs": [
    {
     "data": {
      "text/html": [
       "<style>#sk-container-id-1 {color: black;background-color: white;}#sk-container-id-1 pre{padding: 0;}#sk-container-id-1 div.sk-toggleable {background-color: white;}#sk-container-id-1 label.sk-toggleable__label {cursor: pointer;display: block;width: 100%;margin-bottom: 0;padding: 0.3em;box-sizing: border-box;text-align: center;}#sk-container-id-1 label.sk-toggleable__label-arrow:before {content: \"▸\";float: left;margin-right: 0.25em;color: #696969;}#sk-container-id-1 label.sk-toggleable__label-arrow:hover:before {color: black;}#sk-container-id-1 div.sk-estimator:hover label.sk-toggleable__label-arrow:before {color: black;}#sk-container-id-1 div.sk-toggleable__content {max-height: 0;max-width: 0;overflow: hidden;text-align: left;background-color: #f0f8ff;}#sk-container-id-1 div.sk-toggleable__content pre {margin: 0.2em;color: black;border-radius: 0.25em;background-color: #f0f8ff;}#sk-container-id-1 input.sk-toggleable__control:checked~div.sk-toggleable__content {max-height: 200px;max-width: 100%;overflow: auto;}#sk-container-id-1 input.sk-toggleable__control:checked~label.sk-toggleable__label-arrow:before {content: \"▾\";}#sk-container-id-1 div.sk-estimator input.sk-toggleable__control:checked~label.sk-toggleable__label {background-color: #d4ebff;}#sk-container-id-1 div.sk-label input.sk-toggleable__control:checked~label.sk-toggleable__label {background-color: #d4ebff;}#sk-container-id-1 input.sk-hidden--visually {border: 0;clip: rect(1px 1px 1px 1px);clip: rect(1px, 1px, 1px, 1px);height: 1px;margin: -1px;overflow: hidden;padding: 0;position: absolute;width: 1px;}#sk-container-id-1 div.sk-estimator {font-family: monospace;background-color: #f0f8ff;border: 1px dotted black;border-radius: 0.25em;box-sizing: border-box;margin-bottom: 0.5em;}#sk-container-id-1 div.sk-estimator:hover {background-color: #d4ebff;}#sk-container-id-1 div.sk-parallel-item::after {content: \"\";width: 100%;border-bottom: 1px solid gray;flex-grow: 1;}#sk-container-id-1 div.sk-label:hover label.sk-toggleable__label {background-color: #d4ebff;}#sk-container-id-1 div.sk-serial::before {content: \"\";position: absolute;border-left: 1px solid gray;box-sizing: border-box;top: 0;bottom: 0;left: 50%;z-index: 0;}#sk-container-id-1 div.sk-serial {display: flex;flex-direction: column;align-items: center;background-color: white;padding-right: 0.2em;padding-left: 0.2em;position: relative;}#sk-container-id-1 div.sk-item {position: relative;z-index: 1;}#sk-container-id-1 div.sk-parallel {display: flex;align-items: stretch;justify-content: center;background-color: white;position: relative;}#sk-container-id-1 div.sk-item::before, #sk-container-id-1 div.sk-parallel-item::before {content: \"\";position: absolute;border-left: 1px solid gray;box-sizing: border-box;top: 0;bottom: 0;left: 50%;z-index: -1;}#sk-container-id-1 div.sk-parallel-item {display: flex;flex-direction: column;z-index: 1;position: relative;background-color: white;}#sk-container-id-1 div.sk-parallel-item:first-child::after {align-self: flex-end;width: 50%;}#sk-container-id-1 div.sk-parallel-item:last-child::after {align-self: flex-start;width: 50%;}#sk-container-id-1 div.sk-parallel-item:only-child::after {width: 0;}#sk-container-id-1 div.sk-dashed-wrapped {border: 1px dashed gray;margin: 0 0.4em 0.5em 0.4em;box-sizing: border-box;padding-bottom: 0.4em;background-color: white;}#sk-container-id-1 div.sk-label label {font-family: monospace;font-weight: bold;display: inline-block;line-height: 1.2em;}#sk-container-id-1 div.sk-label-container {text-align: center;}#sk-container-id-1 div.sk-container {/* jupyter's `normalize.less` sets `[hidden] { display: none; }` but bootstrap.min.css set `[hidden] { display: none !important; }` so we also need the `!important` here to be able to override the default hidden behavior on the sphinx rendered scikit-learn.org. See: https://github.com/scikit-learn/scikit-learn/issues/21755 */display: inline-block !important;position: relative;}#sk-container-id-1 div.sk-text-repr-fallback {display: none;}</style><div id=\"sk-container-id-1\" class=\"sk-top-container\"><div class=\"sk-text-repr-fallback\"><pre>KNeighborsClassifier(n_neighbors=1)</pre><b>In a Jupyter environment, please rerun this cell to show the HTML representation or trust the notebook. <br />On GitHub, the HTML representation is unable to render, please try loading this page with nbviewer.org.</b></div><div class=\"sk-container\" hidden><div class=\"sk-item\"><div class=\"sk-estimator sk-toggleable\"><input class=\"sk-toggleable__control sk-hidden--visually\" id=\"sk-estimator-id-1\" type=\"checkbox\" checked><label for=\"sk-estimator-id-1\" class=\"sk-toggleable__label sk-toggleable__label-arrow\">KNeighborsClassifier</label><div class=\"sk-toggleable__content\"><pre>KNeighborsClassifier(n_neighbors=1)</pre></div></div></div></div></div>"
      ],
      "text/plain": [
       "KNeighborsClassifier(n_neighbors=1)"
      ]
     },
     "execution_count": 48,
     "metadata": {},
     "output_type": "execute_result"
    }
   ],
   "source": [
    "'''Part 2\n",
    "   knn Classification'''\n",
    "from sklearn.neighbors import KNeighborsClassifier\n",
    "\n",
    "classifier= KNeighborsClassifier(n_neighbors=1, metric='minkowski', p=2 )\n",
    "\n",
    "classifier.fit(x_scaled, y)"
   ]
  },
  {
   "cell_type": "code",
   "execution_count": 49,
   "id": "29d1bcf2",
   "metadata": {},
   "outputs": [
    {
     "data": {
      "text/plain": [
       "0.7844311377245509"
      ]
     },
     "execution_count": 49,
     "metadata": {},
     "output_type": "execute_result"
    }
   ],
   "source": [
    "'''Part 2\n",
    "   cross validation for knn Classification'''\n",
    "from sklearn.neighbors import KNeighborsClassifier\n",
    "from sklearn.metrics import accuracy_score\n",
    "\n",
    "classifier= KNeighborsClassifier(n_neighbors=1)\n",
    "classifier.fit(X_train, y_train)\n",
    "\n",
    "y_predicted = classifier.predict(X_test)\n",
    "accuracy_score(y_test, y_predicted)\n",
    "\n",
    "#Accuracy of the knn result is ~2% less than that of Linear SVM and ~6% less than rbf SVM"
   ]
  },
  {
   "cell_type": "code",
   "execution_count": 50,
   "id": "53ab7f96",
   "metadata": {},
   "outputs": [
    {
     "name": "stdout",
     "output_type": "stream",
     "text": [
      "(1947, 8)\n",
      "(2212, 8)\n"
     ]
    }
   ],
   "source": [
    "'''Part 2\n",
    "   Decision trees'''\n",
    "#balance the training data\n",
    "from imblearn.over_sampling import SMOTE\n",
    "\n",
    "os = SMOTE(random_state=0) # call the method\n",
    "oversampled_x,oversampled_y=os.fit_resample(X_train, y_train)\n",
    "\n",
    "print(X_train.shape)\n",
    "print(oversampled_x.shape)"
   ]
  },
  {
   "cell_type": "code",
   "execution_count": 51,
   "id": "682a4b0a",
   "metadata": {},
   "outputs": [
    {
     "data": {
      "text/plain": [
       "0.8263473053892215"
      ]
     },
     "execution_count": 51,
     "metadata": {},
     "output_type": "execute_result"
    }
   ],
   "source": [
    "'''Part 2\n",
    "   Decision trees'''\n",
    "from sklearn.tree import DecisionTreeClassifier\n",
    "from sklearn import tree\n",
    "\n",
    "clf2 = tree.DecisionTreeClassifier(max_depth=3) # 3 is the tree depth.\n",
    "\n",
    "clf2.fit(oversampled_x,oversampled_y)\n",
    "clf2.score(X_test,y_test)\n",
    "\n",
    "#Accuracy score for the decision tree is ~2% higher than that of the SVM with linear and .6% lower than SVM with rbf"
   ]
  },
  {
   "cell_type": "code",
   "execution_count": 52,
   "id": "8ad4230d",
   "metadata": {},
   "outputs": [
    {
     "data": {
      "image/svg+xml": [
       "<?xml version=\"1.0\" encoding=\"UTF-8\" standalone=\"no\"?>\n",
       "<!DOCTYPE svg PUBLIC \"-//W3C//DTD SVG 1.1//EN\"\n",
       " \"http://www.w3.org/Graphics/SVG/1.1/DTD/svg11.dtd\">\n",
       "<!-- Generated by graphviz version 9.0.0 (20230911.1827)\n",
       " -->\n",
       "<!-- Title: Tree Pages: 1 -->\n",
       "<svg width=\"1030pt\" height=\"462pt\"\n",
       " viewBox=\"0.00 0.00 1029.50 461.50\" xmlns=\"http://www.w3.org/2000/svg\" xmlns:xlink=\"http://www.w3.org/1999/xlink\">\n",
       "<g id=\"graph0\" class=\"graph\" transform=\"scale(1 1) rotate(0) translate(4 457.5)\">\n",
       "<title>Tree</title>\n",
       "<polygon fill=\"white\" stroke=\"none\" points=\"-4,4 -4,-457.5 1025.5,-457.5 1025.5,4 -4,4\"/>\n",
       "<!-- 0 -->\n",
       "<g id=\"node1\" class=\"node\">\n",
       "<title>0</title>\n",
       "<polygon fill=\"none\" stroke=\"black\" points=\"564.12,-453.5 418.38,-453.5 418.38,-363 564.12,-363 564.12,-453.5\"/>\n",
       "<text text-anchor=\"middle\" x=\"491.25\" y=\"-436.2\" font-family=\"Helvetica,sans-Serif\" font-size=\"14.00\">Phenolics &lt;= 0.955</text>\n",
       "<text text-anchor=\"middle\" x=\"491.25\" y=\"-419.7\" font-family=\"Helvetica,sans-Serif\" font-size=\"14.00\">gini = 0.5</text>\n",
       "<text text-anchor=\"middle\" x=\"491.25\" y=\"-403.2\" font-family=\"Helvetica,sans-Serif\" font-size=\"14.00\">samples = 2212</text>\n",
       "<text text-anchor=\"middle\" x=\"491.25\" y=\"-386.7\" font-family=\"Helvetica,sans-Serif\" font-size=\"14.00\">value = [1106, 1106]</text>\n",
       "<text text-anchor=\"middle\" x=\"491.25\" y=\"-370.2\" font-family=\"Helvetica,sans-Serif\" font-size=\"14.00\">class = y[0]</text>\n",
       "</g>\n",
       "<!-- 1 -->\n",
       "<g id=\"node2\" class=\"node\">\n",
       "<title>1</title>\n",
       "<polygon fill=\"none\" stroke=\"black\" points=\"427.88,-327 298.62,-327 298.62,-236.5 427.88,-236.5 427.88,-327\"/>\n",
       "<text text-anchor=\"middle\" x=\"363.25\" y=\"-309.7\" font-family=\"Helvetica,sans-Serif\" font-size=\"14.00\">AMF &lt;= 5.12</text>\n",
       "<text text-anchor=\"middle\" x=\"363.25\" y=\"-293.2\" font-family=\"Helvetica,sans-Serif\" font-size=\"14.00\">gini = 0.28</text>\n",
       "<text text-anchor=\"middle\" x=\"363.25\" y=\"-276.7\" font-family=\"Helvetica,sans-Serif\" font-size=\"14.00\">samples = 1041</text>\n",
       "<text text-anchor=\"middle\" x=\"363.25\" y=\"-260.2\" font-family=\"Helvetica,sans-Serif\" font-size=\"14.00\">value = [175, 866]</text>\n",
       "<text text-anchor=\"middle\" x=\"363.25\" y=\"-243.7\" font-family=\"Helvetica,sans-Serif\" font-size=\"14.00\">class = y[1]</text>\n",
       "</g>\n",
       "<!-- 0&#45;&gt;1 -->\n",
       "<g id=\"edge1\" class=\"edge\">\n",
       "<title>0&#45;&gt;1</title>\n",
       "<path fill=\"none\" stroke=\"black\" d=\"M445.4,-362.65C436.3,-353.8 426.67,-344.43 417.33,-335.35\"/>\n",
       "<polygon fill=\"black\" stroke=\"black\" points=\"419.9,-332.97 410.29,-328.51 415.02,-337.99 419.9,-332.97\"/>\n",
       "<text text-anchor=\"middle\" x=\"409.56\" y=\"-347.4\" font-family=\"Helvetica,sans-Serif\" font-size=\"14.00\">True</text>\n",
       "</g>\n",
       "<!-- 8 -->\n",
       "<g id=\"node9\" class=\"node\">\n",
       "<title>8</title>\n",
       "<polygon fill=\"none\" stroke=\"black\" points=\"700.75,-327 561.75,-327 561.75,-236.5 700.75,-236.5 700.75,-327\"/>\n",
       "<text text-anchor=\"middle\" x=\"631.25\" y=\"-309.7\" font-family=\"Helvetica,sans-Serif\" font-size=\"14.00\">Phenolics &lt;= 2.485</text>\n",
       "<text text-anchor=\"middle\" x=\"631.25\" y=\"-293.2\" font-family=\"Helvetica,sans-Serif\" font-size=\"14.00\">gini = 0.326</text>\n",
       "<text text-anchor=\"middle\" x=\"631.25\" y=\"-276.7\" font-family=\"Helvetica,sans-Serif\" font-size=\"14.00\">samples = 1171</text>\n",
       "<text text-anchor=\"middle\" x=\"631.25\" y=\"-260.2\" font-family=\"Helvetica,sans-Serif\" font-size=\"14.00\">value = [931, 240]</text>\n",
       "<text text-anchor=\"middle\" x=\"631.25\" y=\"-243.7\" font-family=\"Helvetica,sans-Serif\" font-size=\"14.00\">class = y[0]</text>\n",
       "</g>\n",
       "<!-- 0&#45;&gt;8 -->\n",
       "<g id=\"edge8\" class=\"edge\">\n",
       "<title>0&#45;&gt;8</title>\n",
       "<path fill=\"none\" stroke=\"black\" d=\"M541.4,-362.65C551.45,-353.71 562.1,-344.25 572.41,-335.07\"/>\n",
       "<polygon fill=\"black\" stroke=\"black\" points=\"574.7,-337.72 579.85,-328.46 570.05,-332.49 574.7,-337.72\"/>\n",
       "<text text-anchor=\"middle\" x=\"579.52\" y=\"-347.36\" font-family=\"Helvetica,sans-Serif\" font-size=\"14.00\">False</text>\n",
       "</g>\n",
       "<!-- 2 -->\n",
       "<g id=\"node3\" class=\"node\">\n",
       "<title>2</title>\n",
       "<polygon fill=\"none\" stroke=\"black\" points=\"228.62,-200.5 121.88,-200.5 121.88,-110 228.62,-110 228.62,-200.5\"/>\n",
       "<text text-anchor=\"middle\" x=\"175.25\" y=\"-183.2\" font-family=\"Helvetica,sans-Serif\" font-size=\"14.00\">AMF &lt;= 2.209</text>\n",
       "<text text-anchor=\"middle\" x=\"175.25\" y=\"-166.7\" font-family=\"Helvetica,sans-Serif\" font-size=\"14.00\">gini = 0.122</text>\n",
       "<text text-anchor=\"middle\" x=\"175.25\" y=\"-150.2\" font-family=\"Helvetica,sans-Serif\" font-size=\"14.00\">samples = 46</text>\n",
       "<text text-anchor=\"middle\" x=\"175.25\" y=\"-133.7\" font-family=\"Helvetica,sans-Serif\" font-size=\"14.00\">value = [43, 3]</text>\n",
       "<text text-anchor=\"middle\" x=\"175.25\" y=\"-117.2\" font-family=\"Helvetica,sans-Serif\" font-size=\"14.00\">class = y[0]</text>\n",
       "</g>\n",
       "<!-- 1&#45;&gt;2 -->\n",
       "<g id=\"edge2\" class=\"edge\">\n",
       "<title>1&#45;&gt;2</title>\n",
       "<path fill=\"none\" stroke=\"black\" d=\"M298.29,-237.73C278.95,-224.92 257.79,-210.91 238.56,-198.18\"/>\n",
       "<polygon fill=\"black\" stroke=\"black\" points=\"240.53,-195.28 230.26,-192.68 236.66,-201.12 240.53,-195.28\"/>\n",
       "</g>\n",
       "<!-- 5 -->\n",
       "<g id=\"node6\" class=\"node\">\n",
       "<title>5</title>\n",
       "<polygon fill=\"none\" stroke=\"black\" points=\"427.88,-200.5 298.62,-200.5 298.62,-110 427.88,-110 427.88,-200.5\"/>\n",
       "<text text-anchor=\"middle\" x=\"363.25\" y=\"-183.2\" font-family=\"Helvetica,sans-Serif\" font-size=\"14.00\">AMF &lt;= 62.81</text>\n",
       "<text text-anchor=\"middle\" x=\"363.25\" y=\"-166.7\" font-family=\"Helvetica,sans-Serif\" font-size=\"14.00\">gini = 0.23</text>\n",
       "<text text-anchor=\"middle\" x=\"363.25\" y=\"-150.2\" font-family=\"Helvetica,sans-Serif\" font-size=\"14.00\">samples = 995</text>\n",
       "<text text-anchor=\"middle\" x=\"363.25\" y=\"-133.7\" font-family=\"Helvetica,sans-Serif\" font-size=\"14.00\">value = [132, 863]</text>\n",
       "<text text-anchor=\"middle\" x=\"363.25\" y=\"-117.2\" font-family=\"Helvetica,sans-Serif\" font-size=\"14.00\">class = y[1]</text>\n",
       "</g>\n",
       "<!-- 1&#45;&gt;5 -->\n",
       "<g id=\"edge5\" class=\"edge\">\n",
       "<title>1&#45;&gt;5</title>\n",
       "<path fill=\"none\" stroke=\"black\" d=\"M363.25,-236.15C363.25,-228.47 363.25,-220.39 363.25,-212.44\"/>\n",
       "<polygon fill=\"black\" stroke=\"black\" points=\"366.75,-212.47 363.25,-202.47 359.75,-212.47 366.75,-212.47\"/>\n",
       "</g>\n",
       "<!-- 3 -->\n",
       "<g id=\"node4\" class=\"node\">\n",
       "<title>3</title>\n",
       "<polygon fill=\"none\" stroke=\"black\" points=\"104.5,-74 0,-74 0,0 104.5,0 104.5,-74\"/>\n",
       "<text text-anchor=\"middle\" x=\"52.25\" y=\"-56.7\" font-family=\"Helvetica,sans-Serif\" font-size=\"14.00\">gini = 0.0</text>\n",
       "<text text-anchor=\"middle\" x=\"52.25\" y=\"-40.2\" font-family=\"Helvetica,sans-Serif\" font-size=\"14.00\">samples = 29</text>\n",
       "<text text-anchor=\"middle\" x=\"52.25\" y=\"-23.7\" font-family=\"Helvetica,sans-Serif\" font-size=\"14.00\">value = [29, 0]</text>\n",
       "<text text-anchor=\"middle\" x=\"52.25\" y=\"-7.2\" font-family=\"Helvetica,sans-Serif\" font-size=\"14.00\">class = y[0]</text>\n",
       "</g>\n",
       "<!-- 2&#45;&gt;3 -->\n",
       "<g id=\"edge3\" class=\"edge\">\n",
       "<title>2&#45;&gt;3</title>\n",
       "<path fill=\"none\" stroke=\"black\" d=\"M128.05,-109.64C118.51,-100.62 108.49,-91.15 98.97,-82.15\"/>\n",
       "<polygon fill=\"black\" stroke=\"black\" points=\"101.53,-79.76 91.86,-75.43 96.72,-84.85 101.53,-79.76\"/>\n",
       "</g>\n",
       "<!-- 4 -->\n",
       "<g id=\"node5\" class=\"node\">\n",
       "<title>4</title>\n",
       "<polygon fill=\"none\" stroke=\"black\" points=\"227.5,-74 123,-74 123,0 227.5,0 227.5,-74\"/>\n",
       "<text text-anchor=\"middle\" x=\"175.25\" y=\"-56.7\" font-family=\"Helvetica,sans-Serif\" font-size=\"14.00\">gini = 0.291</text>\n",
       "<text text-anchor=\"middle\" x=\"175.25\" y=\"-40.2\" font-family=\"Helvetica,sans-Serif\" font-size=\"14.00\">samples = 17</text>\n",
       "<text text-anchor=\"middle\" x=\"175.25\" y=\"-23.7\" font-family=\"Helvetica,sans-Serif\" font-size=\"14.00\">value = [14, 3]</text>\n",
       "<text text-anchor=\"middle\" x=\"175.25\" y=\"-7.2\" font-family=\"Helvetica,sans-Serif\" font-size=\"14.00\">class = y[0]</text>\n",
       "</g>\n",
       "<!-- 2&#45;&gt;4 -->\n",
       "<g id=\"edge4\" class=\"edge\">\n",
       "<title>2&#45;&gt;4</title>\n",
       "<path fill=\"none\" stroke=\"black\" d=\"M175.25,-109.64C175.25,-101.81 175.25,-93.63 175.25,-85.72\"/>\n",
       "<polygon fill=\"black\" stroke=\"black\" points=\"178.75,-85.91 175.25,-75.91 171.75,-85.91 178.75,-85.91\"/>\n",
       "</g>\n",
       "<!-- 6 -->\n",
       "<g id=\"node7\" class=\"node\">\n",
       "<title>6</title>\n",
       "<polygon fill=\"none\" stroke=\"black\" points=\"374.88,-74 245.62,-74 245.62,0 374.88,0 374.88,-74\"/>\n",
       "<text text-anchor=\"middle\" x=\"310.25\" y=\"-56.7\" font-family=\"Helvetica,sans-Serif\" font-size=\"14.00\">gini = 0.212</text>\n",
       "<text text-anchor=\"middle\" x=\"310.25\" y=\"-40.2\" font-family=\"Helvetica,sans-Serif\" font-size=\"14.00\">samples = 981</text>\n",
       "<text text-anchor=\"middle\" x=\"310.25\" y=\"-23.7\" font-family=\"Helvetica,sans-Serif\" font-size=\"14.00\">value = [118, 863]</text>\n",
       "<text text-anchor=\"middle\" x=\"310.25\" y=\"-7.2\" font-family=\"Helvetica,sans-Serif\" font-size=\"14.00\">class = y[1]</text>\n",
       "</g>\n",
       "<!-- 5&#45;&gt;6 -->\n",
       "<g id=\"edge6\" class=\"edge\">\n",
       "<title>5&#45;&gt;6</title>\n",
       "<path fill=\"none\" stroke=\"black\" d=\"M342.91,-109.64C339.17,-101.44 335.27,-92.87 331.5,-84.62\"/>\n",
       "<polygon fill=\"black\" stroke=\"black\" points=\"334.8,-83.42 327.47,-75.77 328.43,-86.32 334.8,-83.42\"/>\n",
       "</g>\n",
       "<!-- 7 -->\n",
       "<g id=\"node8\" class=\"node\">\n",
       "<title>7</title>\n",
       "<polygon fill=\"none\" stroke=\"black\" points=\"497.5,-74 393,-74 393,0 497.5,0 497.5,-74\"/>\n",
       "<text text-anchor=\"middle\" x=\"445.25\" y=\"-56.7\" font-family=\"Helvetica,sans-Serif\" font-size=\"14.00\">gini = 0.0</text>\n",
       "<text text-anchor=\"middle\" x=\"445.25\" y=\"-40.2\" font-family=\"Helvetica,sans-Serif\" font-size=\"14.00\">samples = 14</text>\n",
       "<text text-anchor=\"middle\" x=\"445.25\" y=\"-23.7\" font-family=\"Helvetica,sans-Serif\" font-size=\"14.00\">value = [14, 0]</text>\n",
       "<text text-anchor=\"middle\" x=\"445.25\" y=\"-7.2\" font-family=\"Helvetica,sans-Serif\" font-size=\"14.00\">class = y[0]</text>\n",
       "</g>\n",
       "<!-- 5&#45;&gt;7 -->\n",
       "<g id=\"edge7\" class=\"edge\">\n",
       "<title>5&#45;&gt;7</title>\n",
       "<path fill=\"none\" stroke=\"black\" d=\"M394.72,-109.64C400.69,-101.17 406.95,-92.3 412.95,-83.8\"/>\n",
       "<polygon fill=\"black\" stroke=\"black\" points=\"415.8,-85.82 418.71,-75.63 410.08,-81.78 415.8,-85.82\"/>\n",
       "</g>\n",
       "<!-- 9 -->\n",
       "<g id=\"node10\" class=\"node\">\n",
       "<title>9</title>\n",
       "<polygon fill=\"none\" stroke=\"black\" points=\"687.62,-200.5 574.88,-200.5 574.88,-110 687.62,-110 687.62,-200.5\"/>\n",
       "<text text-anchor=\"middle\" x=\"631.25\" y=\"-183.2\" font-family=\"Helvetica,sans-Serif\" font-size=\"14.00\">AMF &lt;= 10.17</text>\n",
       "<text text-anchor=\"middle\" x=\"631.25\" y=\"-166.7\" font-family=\"Helvetica,sans-Serif\" font-size=\"14.00\">gini = 0.476</text>\n",
       "<text text-anchor=\"middle\" x=\"631.25\" y=\"-150.2\" font-family=\"Helvetica,sans-Serif\" font-size=\"14.00\">samples = 82</text>\n",
       "<text text-anchor=\"middle\" x=\"631.25\" y=\"-133.7\" font-family=\"Helvetica,sans-Serif\" font-size=\"14.00\">value = [50, 32]</text>\n",
       "<text text-anchor=\"middle\" x=\"631.25\" y=\"-117.2\" font-family=\"Helvetica,sans-Serif\" font-size=\"14.00\">class = y[0]</text>\n",
       "</g>\n",
       "<!-- 8&#45;&gt;9 -->\n",
       "<g id=\"edge9\" class=\"edge\">\n",
       "<title>8&#45;&gt;9</title>\n",
       "<path fill=\"none\" stroke=\"black\" d=\"M631.25,-236.15C631.25,-228.47 631.25,-220.39 631.25,-212.44\"/>\n",
       "<polygon fill=\"black\" stroke=\"black\" points=\"634.75,-212.47 631.25,-202.47 627.75,-212.47 634.75,-212.47\"/>\n",
       "</g>\n",
       "<!-- 12 -->\n",
       "<g id=\"node13\" class=\"node\">\n",
       "<title>12</title>\n",
       "<polygon fill=\"none\" stroke=\"black\" points=\"898.88,-200.5 769.62,-200.5 769.62,-110 898.88,-110 898.88,-200.5\"/>\n",
       "<text text-anchor=\"middle\" x=\"834.25\" y=\"-183.2\" font-family=\"Helvetica,sans-Serif\" font-size=\"14.00\">AMF &lt;= 31.975</text>\n",
       "<text text-anchor=\"middle\" x=\"834.25\" y=\"-166.7\" font-family=\"Helvetica,sans-Serif\" font-size=\"14.00\">gini = 0.309</text>\n",
       "<text text-anchor=\"middle\" x=\"834.25\" y=\"-150.2\" font-family=\"Helvetica,sans-Serif\" font-size=\"14.00\">samples = 1089</text>\n",
       "<text text-anchor=\"middle\" x=\"834.25\" y=\"-133.7\" font-family=\"Helvetica,sans-Serif\" font-size=\"14.00\">value = [881, 208]</text>\n",
       "<text text-anchor=\"middle\" x=\"834.25\" y=\"-117.2\" font-family=\"Helvetica,sans-Serif\" font-size=\"14.00\">class = y[0]</text>\n",
       "</g>\n",
       "<!-- 8&#45;&gt;12 -->\n",
       "<g id=\"edge12\" class=\"edge\">\n",
       "<title>8&#45;&gt;12</title>\n",
       "<path fill=\"none\" stroke=\"black\" d=\"M701.11,-237.9C720.05,-226.29 740.61,-213.68 759.79,-201.91\"/>\n",
       "<polygon fill=\"black\" stroke=\"black\" points=\"761.4,-205.04 768.09,-196.83 757.74,-199.07 761.4,-205.04\"/>\n",
       "</g>\n",
       "<!-- 10 -->\n",
       "<g id=\"node11\" class=\"node\">\n",
       "<title>10</title>\n",
       "<polygon fill=\"none\" stroke=\"black\" points=\"620.5,-74 516,-74 516,0 620.5,0 620.5,-74\"/>\n",
       "<text text-anchor=\"middle\" x=\"568.25\" y=\"-56.7\" font-family=\"Helvetica,sans-Serif\" font-size=\"14.00\">gini = 0.198</text>\n",
       "<text text-anchor=\"middle\" x=\"568.25\" y=\"-40.2\" font-family=\"Helvetica,sans-Serif\" font-size=\"14.00\">samples = 18</text>\n",
       "<text text-anchor=\"middle\" x=\"568.25\" y=\"-23.7\" font-family=\"Helvetica,sans-Serif\" font-size=\"14.00\">value = [16, 2]</text>\n",
       "<text text-anchor=\"middle\" x=\"568.25\" y=\"-7.2\" font-family=\"Helvetica,sans-Serif\" font-size=\"14.00\">class = y[0]</text>\n",
       "</g>\n",
       "<!-- 9&#45;&gt;10 -->\n",
       "<g id=\"edge10\" class=\"edge\">\n",
       "<title>9&#45;&gt;10</title>\n",
       "<path fill=\"none\" stroke=\"black\" d=\"M607.07,-109.64C602.58,-101.35 597.88,-92.68 593.37,-84.34\"/>\n",
       "<polygon fill=\"black\" stroke=\"black\" points=\"596.54,-82.85 588.69,-75.72 590.38,-86.18 596.54,-82.85\"/>\n",
       "</g>\n",
       "<!-- 11 -->\n",
       "<g id=\"node12\" class=\"node\">\n",
       "<title>11</title>\n",
       "<polygon fill=\"none\" stroke=\"black\" points=\"751.62,-74 638.88,-74 638.88,0 751.62,0 751.62,-74\"/>\n",
       "<text text-anchor=\"middle\" x=\"695.25\" y=\"-56.7\" font-family=\"Helvetica,sans-Serif\" font-size=\"14.00\">gini = 0.498</text>\n",
       "<text text-anchor=\"middle\" x=\"695.25\" y=\"-40.2\" font-family=\"Helvetica,sans-Serif\" font-size=\"14.00\">samples = 64</text>\n",
       "<text text-anchor=\"middle\" x=\"695.25\" y=\"-23.7\" font-family=\"Helvetica,sans-Serif\" font-size=\"14.00\">value = [34, 30]</text>\n",
       "<text text-anchor=\"middle\" x=\"695.25\" y=\"-7.2\" font-family=\"Helvetica,sans-Serif\" font-size=\"14.00\">class = y[0]</text>\n",
       "</g>\n",
       "<!-- 9&#45;&gt;11 -->\n",
       "<g id=\"edge11\" class=\"edge\">\n",
       "<title>9&#45;&gt;11</title>\n",
       "<path fill=\"none\" stroke=\"black\" d=\"M655.81,-109.64C660.37,-101.35 665.15,-92.68 669.74,-84.34\"/>\n",
       "<polygon fill=\"black\" stroke=\"black\" points=\"672.73,-86.17 674.48,-75.72 666.6,-82.79 672.73,-86.17\"/>\n",
       "</g>\n",
       "<!-- 13 -->\n",
       "<g id=\"node14\" class=\"node\">\n",
       "<title>13</title>\n",
       "<polygon fill=\"none\" stroke=\"black\" points=\"898.88,-74 769.62,-74 769.62,0 898.88,0 898.88,-74\"/>\n",
       "<text text-anchor=\"middle\" x=\"834.25\" y=\"-56.7\" font-family=\"Helvetica,sans-Serif\" font-size=\"14.00\">gini = 0.324</text>\n",
       "<text text-anchor=\"middle\" x=\"834.25\" y=\"-40.2\" font-family=\"Helvetica,sans-Serif\" font-size=\"14.00\">samples = 1019</text>\n",
       "<text text-anchor=\"middle\" x=\"834.25\" y=\"-23.7\" font-family=\"Helvetica,sans-Serif\" font-size=\"14.00\">value = [812, 207]</text>\n",
       "<text text-anchor=\"middle\" x=\"834.25\" y=\"-7.2\" font-family=\"Helvetica,sans-Serif\" font-size=\"14.00\">class = y[0]</text>\n",
       "</g>\n",
       "<!-- 12&#45;&gt;13 -->\n",
       "<g id=\"edge13\" class=\"edge\">\n",
       "<title>12&#45;&gt;13</title>\n",
       "<path fill=\"none\" stroke=\"black\" d=\"M834.25,-109.64C834.25,-101.81 834.25,-93.63 834.25,-85.72\"/>\n",
       "<polygon fill=\"black\" stroke=\"black\" points=\"837.75,-85.91 834.25,-75.91 830.75,-85.91 837.75,-85.91\"/>\n",
       "</g>\n",
       "<!-- 14 -->\n",
       "<g id=\"node15\" class=\"node\">\n",
       "<title>14</title>\n",
       "<polygon fill=\"none\" stroke=\"black\" points=\"1021.5,-74 917,-74 917,0 1021.5,0 1021.5,-74\"/>\n",
       "<text text-anchor=\"middle\" x=\"969.25\" y=\"-56.7\" font-family=\"Helvetica,sans-Serif\" font-size=\"14.00\">gini = 0.028</text>\n",
       "<text text-anchor=\"middle\" x=\"969.25\" y=\"-40.2\" font-family=\"Helvetica,sans-Serif\" font-size=\"14.00\">samples = 70</text>\n",
       "<text text-anchor=\"middle\" x=\"969.25\" y=\"-23.7\" font-family=\"Helvetica,sans-Serif\" font-size=\"14.00\">value = [69, 1]</text>\n",
       "<text text-anchor=\"middle\" x=\"969.25\" y=\"-7.2\" font-family=\"Helvetica,sans-Serif\" font-size=\"14.00\">class = y[0]</text>\n",
       "</g>\n",
       "<!-- 12&#45;&gt;14 -->\n",
       "<g id=\"edge14\" class=\"edge\">\n",
       "<title>12&#45;&gt;14</title>\n",
       "<path fill=\"none\" stroke=\"black\" d=\"M886.06,-109.64C896.63,-100.53 907.75,-90.96 918.29,-81.88\"/>\n",
       "<polygon fill=\"black\" stroke=\"black\" points=\"920.55,-84.56 925.84,-75.38 915.98,-79.25 920.55,-84.56\"/>\n",
       "</g>\n",
       "</g>\n",
       "</svg>\n"
      ],
      "text/plain": [
       "<graphviz.sources.Source at 0x2f2bf1f7e10>"
      ]
     },
     "execution_count": 52,
     "metadata": {},
     "output_type": "execute_result"
    }
   ],
   "source": [
    "'''Part 2\n",
    "   Decision trees: visual'''\n",
    "import graphviz\n",
    "\n",
    "dot_data = tree.export_graphviz(clf2,\n",
    "feature_names=['Plot','Species','Light_ISF','Core','Conspecific','SoilMyco','AMF','Phenolics'],\n",
    "class_names = True)\n",
    "\n",
    "graph = graphviz.Source(dot_data)\n",
    "graph.render(\"gini\")\n",
    "graph"
   ]
  },
  {
   "cell_type": "code",
   "execution_count": null,
   "id": "8efecf2b",
   "metadata": {},
   "outputs": [],
   "source": [
    "'''Part 3\n",
    "   video'''\n",
    "\n",
    "#filler"
   ]
  },
  {
   "cell_type": "code",
   "execution_count": 66,
   "id": "3f931105",
   "metadata": {},
   "outputs": [],
   "source": [
    "'''Part 4\n",
    "   Deployment'''\n",
    "import pickle\n",
    "from pickle import dump\n",
    "\n",
    "dump(clf_rbf, open(\"model.pkl\", \"wb\"))\n",
    "\n",
    "\n"
   ]
  },
  {
   "cell_type": "code",
   "execution_count": null,
   "id": "4df65c8c",
   "metadata": {},
   "outputs": [],
   "source": [
    "#https://scikit-learn.org/stable/modules/sgd.html#classification\n"
   ]
  }
 ],
 "metadata": {
  "kernelspec": {
   "display_name": "Python 3 (ipykernel)",
   "language": "python",
   "name": "python3"
  },
  "language_info": {
   "codemirror_mode": {
    "name": "ipython",
    "version": 3
   },
   "file_extension": ".py",
   "mimetype": "text/x-python",
   "name": "python",
   "nbconvert_exporter": "python",
   "pygments_lexer": "ipython3",
   "version": "3.11.4"
  }
 },
 "nbformat": 4,
 "nbformat_minor": 5
}
